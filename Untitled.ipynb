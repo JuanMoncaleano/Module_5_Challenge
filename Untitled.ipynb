{
 "cells": [
  {
   "cell_type": "code",
   "execution_count": 1,
   "id": "2b7e62c7",
   "metadata": {},
   "outputs": [],
   "source": [
    "import pandas as pd\n",
    "import matplotlib.pyplot as plt\n",
    "import numpy as np\n"
   ]
  },
  {
   "cell_type": "code",
   "execution_count": 2,
   "id": "94977a89",
   "metadata": {},
   "outputs": [],
   "source": [
    "mouse_metadata = pd.read_csv(r\"C:\\Users\\juank\\OneDrive\\Desktop\\Everything\\UofT\\Module_5\\Module_5_Challenge\\Starter_Code (3)\\Starter_Code\\Pymaceuticals\\data\\Mouse_metadata.csv\")\n",
    "study_results = pd.read_csv(r\"C:\\Users\\juank\\OneDrive\\Desktop\\Everything\\UofT\\Module_5\\Module_5_Challenge\\Starter_Code (3)\\Starter_Code\\Pymaceuticals\\data\\Study_results.csv\")"
   ]
  },
  {
   "cell_type": "code",
   "execution_count": 3,
   "id": "fe3b5462",
   "metadata": {},
   "outputs": [],
   "source": [
    "merged_data = pd.merge(mouse_metadata, study_results, on='Mouse ID')"
   ]
  },
  {
   "cell_type": "code",
   "execution_count": 4,
   "id": "5ebdcca9",
   "metadata": {},
   "outputs": [
    {
     "name": "stdout",
     "output_type": "stream",
     "text": [
      "Number of unique mice IDs: 249\n"
     ]
    }
   ],
   "source": [
    "unique_mice = merged_data['Mouse ID'].nunique()\n",
    "print(f\"Number of unique mice IDs: {unique_mice}\")"
   ]
  },
  {
   "cell_type": "code",
   "execution_count": null,
   "id": "9bc9f215",
   "metadata": {},
   "outputs": [],
   "source": []
  }
 ],
 "metadata": {
  "kernelspec": {
   "display_name": "Python 3 (ipykernel)",
   "language": "python",
   "name": "python3"
  },
  "language_info": {
   "codemirror_mode": {
    "name": "ipython",
    "version": 3
   },
   "file_extension": ".py",
   "mimetype": "text/x-python",
   "name": "python",
   "nbconvert_exporter": "python",
   "pygments_lexer": "ipython3",
   "version": "3.9.13"
  }
 },
 "nbformat": 4,
 "nbformat_minor": 5
}
